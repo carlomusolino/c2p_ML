{
 "cells": [
  {
   "cell_type": "code",
   "execution_count": 1,
   "id": "7beec214",
   "metadata": {},
   "outputs": [],
   "source": [
    "# C2P modules\n",
    "from metric import metric\n",
    "from hybrid_eos import hybrid_eos\n",
    "from c2p import *\n",
    "\n",
    "# Numpy and matplotlib\n",
    "import numpy as np \n",
    "import matplotlib.pyplot as plt \n",
    "\n",
    "# PyTorch\n",
    "import torch\n",
    "import torch.nn as nn\n",
    "import torch.optim as optim\n",
    "from torch.utils.data import DataLoader, TensorDataset\n",
    "import numpy as np\n",
    "import matplotlib.pyplot as plt"
   ]
  },
  {
   "cell_type": "markdown",
   "id": "4195c0de",
   "metadata": {},
   "source": [
    "## Try setting up a NN\n",
    "We will try to set up a Informed Neural Net to solve the inverse c2p problem in numerical relativity. This network is based on the standard 1-D hydro inverter that solves for z (a function of the enthalpy). This algorithm is chosen since it only really depends on three inputs: tau and the norm of S normalised by the conserved density and the density itself."
   ]
  },
  {
   "cell_type": "code",
   "execution_count": 2,
   "id": "b2064479",
   "metadata": {},
   "outputs": [],
   "source": [
    "class c2p_NN(nn.Module):\n",
    "    def __init__(self, input_dim=3, output_dim=1, hidden_layers=3, neurons=50, dropout_rate=0.1):\n",
    "        super(c2p_NN, self).__init__()\n",
    "        layers = []\n",
    "        layers.append(nn.Linear(input_dim, neurons))  # Input layer\n",
    "        layers.append(nn.ReLU())  # Activation\n",
    "        for _ in range(hidden_layers):\n",
    "            layers.append(nn.Linear(neurons, neurons))  # Hidden layers\n",
    "            layers.append(nn.ReLU())  # Activation\n",
    "            layers.append(nn.BatchNorm1d(neurons))\n",
    "            layers.append(nn.Dropout(dropout_rate))\n",
    "        layers.append(nn.Linear(neurons, output_dim))  # Output layer\n",
    "        self.network = nn.Sequential(*layers)\n",
    "\n",
    "    def forward(self, x):\n",
    "        return self.network(x)\n"
   ]
  },
  {
   "cell_type": "code",
   "execution_count": 40,
   "id": "0da0550d",
   "metadata": {},
   "outputs": [],
   "source": [
    "def get_initial_state(metric,eos,rho,T,vel):\n",
    "    # First compute primitives \n",
    "    press,eps = eos.press_eps__temp_rho(T,rho)\n",
    "    p = prims(rho,vel,eps,press)\n",
    "    # Then conservatives \n",
    "    cons = p2c(metric,p)\n",
    "    # Finally the actual inputs can be computed\n",
    "    q = cons.tau# / cons.dens\n",
    "    r = np.sqrt(metric.square_norm_lower(cons.stilde))# / cons.dens\n",
    "    t = cons.dens / metric.sqrtg\n",
    "    zeta = np.zeros(t.shape)\n",
    "    for i in range(len(zeta)):\n",
    "        cc = conservs(cons.dens[i],cons.stilde[i,:],cons.tau[i])\n",
    "        #  Finally invert to find the correct answer\n",
    "        inverter = c2p(metric,cc,eos)\n",
    "        _,zeta[i] = inverter.invert()\n",
    "    \n",
    "    return np.stack((t,q,r),axis=1), zeta\n",
    "\n",
    "\n",
    "def setup_initial_state(metric,eos,N,lrhomin,lrhomax,ltempmin,ltempmax,Wmin,Wmax):\n",
    "    \"\"\"\n",
    "    Setup a given number of random inputs for the PINN\n",
    "    metric:   The metric tensor\n",
    "    eos:      The equation of state\n",
    "    N:        Number of inputs\n",
    "    lrhomin:  Lower bound for log10(rho)\n",
    "    lrhomax:  Upper bound for log10(rho)\n",
    "    ltempmin: Lower bound for log10(temp)\n",
    "    ltempmax: Upper bound for log10(temp)\n",
    "    Wmin:     Lower bound for W lorentz\n",
    "    Wmax:     Upper bound for W lorentz\n",
    "    Inputs are computed as N random sets of primitives within the specified \n",
    "    bounds. The output of this function is the torch tensor to be fed to the \n",
    "    NN as well as the correct output to expect (z).\n",
    "    \"\"\" \n",
    "    # Step 1: get velocities\n",
    "    W = np.random.uniform(Wmin,Wmax,N)#np.ones(N)*1.1#np.random.uniform(1,1.1,N)#np.ones(N)*(1/np.sqrt(1-0.1**2))#np.random.uniform(Wmin,Wmax,N)\n",
    "    vel = np.ones((N,3)) #np.random.uniform(-1, 1, (N,3) )\n",
    "    #vel[:,0] = 0.1 \n",
    "    \n",
    "    # rescale by desired Lorentz factor and normalize\n",
    "    vnorm = np.sqrt((W**2-1)/metric.squareUbatched(vel))/W\n",
    "    \n",
    "    vel *= vnorm[:,np.newaxis]\n",
    "    \n",
    "    rho = 10**np.random.uniform(lrhomin,lrhomax,N)\n",
    "    \n",
    "    T = 10**np.random.uniform(ltempmin,ltempmax,N)\n",
    "    \n",
    "    return get_initial_state(metric,eos,rho,T,vel)    \n",
    "    "
   ]
  },
  {
   "cell_type": "code",
   "execution_count": 6,
   "id": "e7f88854",
   "metadata": {},
   "outputs": [],
   "source": [
    "eta = metric(\n",
    "np.eye(3), np.zeros(3), 1\n",
    ")\n",
    "eos = hybrid_eos(100,2,1.8)"
   ]
  },
  {
   "cell_type": "code",
   "execution_count": null,
   "id": "6996abc6",
   "metadata": {},
   "outputs": [
    {
     "name": "stdout",
     "output_type": "stream",
     "text": [
      "Input: size 65536 mean [0.00011111 0.00838487 0.00775392] std [0.00035321 0.05653995 0.05357773]\n",
      "Epoch 0, Loss: 1.0104104000492953\n",
      "Epoch 10, Loss: 1.0001178076927317\n",
      "Epoch 20, Loss: 1.0000877281854628\n",
      "Epoch 30, Loss: 1.0000060031597968\n",
      "Epoch 40, Loss: 0.9999994005047483\n",
      "Epoch 50, Loss: 0.9999887968588155\n",
      "Epoch 60, Loss: 0.999985597023624\n",
      "Epoch 70, Loss: 0.9999850345484447\n"
     ]
    }
   ],
   "source": [
    "lrhomin = -12\n",
    "lrhomax = -2.8\n",
    "\n",
    "ltempmin = -1 \n",
    "ltempmax = 2.3\n",
    "\n",
    "Wmin = 1\n",
    "Wmax = 2 \n",
    "\n",
    "N = 1<<16\n",
    "inputs_np,outputs_np = setup_initial_state(eta,eos,N,lrhomin,lrhomax,ltempmin,ltempmax,Wmin,Wmax)\n",
    "\n",
    "inputs = torch.from_numpy(inputs_np).float()\n",
    "outputs = torch.from_numpy(outputs_np).float()\n",
    "\n",
    "in_mean = inputs.mean(axis=0)\n",
    "out_mean = outputs.mean(axis=0)\n",
    "\n",
    "in_std = inputs.std(axis=0)\n",
    "out_std = outputs.std(axis=0)\n",
    "\n",
    "print(f\"Input: size {N} mean {in_mean.detach().numpy()} std {in_std.detach().numpy()}\")\n",
    "\n",
    "\n",
    "# Create dataset and DataLoader\n",
    "dataset = TensorDataset(inputs, outputs)\n",
    "batch_size = 32\n",
    "dataloader = DataLoader(dataset, batch_size=batch_size, shuffle=True)\n",
    "\n",
    "\n",
    "inputs = (inputs - inputs.mean(axis=0)) / inputs.std(axis=0)\n",
    "outputs = (outputs - outputs.mean(axis=0)) / outputs.std(axis=0)\n",
    "\n",
    "model = c2p_NN(input_dim=3,output_dim=1,hidden_layers=3,neurons=128)\n",
    "optimizer = torch.optim.Adam(model.parameters(),lr=1e-03, weight_decay=1e-5)\n",
    "\n",
    "#scheduler = torch.optim.lr_scheduler.StepLR(optimizer, step_size=10, gamma=0.5)\n",
    "#scheduler = torch.optim.lr_scheduler.ExponentialLR(optimizer, gamma=0.95)  # Multiply LR by 0.95 every epoch\n",
    "scheduler = torch.optim.lr_scheduler.ReduceLROnPlateau(optimizer, mode='min', factor=0.5, patience=5)\n",
    "\n",
    "err = []\n",
    "\n",
    "# Create dataset and DataLoader\n",
    "dataset = TensorDataset(inputs, outputs)\n",
    "batch_size = 32\n",
    "dataloader = DataLoader(dataset, batch_size=batch_size, shuffle=True)\n",
    "\n",
    "\n",
    "num_epochs = 250\n",
    "for epoch in range(num_epochs):\n",
    "    epoch_loss = 0 \n",
    "    for batch_inputs, batch_labels in dataloader:\n",
    "        optimizer.zero_grad()\n",
    "        predictions = model(batch_inputs)\n",
    "        loss = torch.mean((predictions - batch_labels) ** 2)\n",
    "        loss.backward()\n",
    "        optimizer.step()\n",
    "        epoch_loss += loss.item()\n",
    "    #scheduler.step()  # Reduce learning rate periodically\n",
    "    epoch_loss /= len(dataloader)\n",
    "    scheduler.step(epoch_loss)\n",
    "    # Print progress every 100 epochs\n",
    "    if epoch % 10 == 0:\n",
    "        print(f\"Epoch {epoch}, Loss: {epoch_loss}\")\n",
    "        \n",
    "    err.append(epoch_loss)"
   ]
  },
  {
   "cell_type": "code",
   "execution_count": 15,
   "id": "be83b809",
   "metadata": {},
   "outputs": [
    {
     "name": "stdout",
     "output_type": "stream",
     "text": [
      "[-3.36894736e-06]\n"
     ]
    }
   ],
   "source": [
    "test,test_out = setup_initial_state(eta,eos,1,lrhomin,lrhomax,ltempmin,ltempmax,Wmin,Wmax)\n",
    "model.eval()\n",
    "z = model(torch.from_numpy(test).float())\n",
    "print(z.item() - test_out)"
   ]
  },
  {
   "cell_type": "code",
   "execution_count": 28,
   "id": "11cc8bae",
   "metadata": {},
   "outputs": [
    {
     "data": {
      "text/plain": [
       "<matplotlib.collections.PathCollection at 0x7facf5c304c0>"
      ]
     },
     "execution_count": 28,
     "metadata": {},
     "output_type": "execute_result"
    },
    {
     "data": {
      "image/png": "[encoded data removed]",
      "text/plain": [
       "<Figure size 432x288 with 1 Axes>"
      ]
     },
     "metadata": {
      "needs_background": "light"
     },
     "output_type": "display_data"
    }
   ],
   "source": [
    "plt.scatter(np.arange(4096),inputs_np[:,2])"
   ]
  },
  {
   "cell_type": "code",
   "execution_count": 18,
   "id": "01205350",
   "metadata": {},
   "outputs": [
    {
     "data": {
      "text/plain": [
       "<matplotlib.collections.PathCollection at 0x7facc8015490>"
      ]
     },
     "execution_count": 18,
     "metadata": {},
     "output_type": "execute_result"
    },
    {
     "data": {
      "image/png": "[encoded data removed]",
      "text/plain": [
       "<Figure size 432x288 with 1 Axes>"
      ]
     },
     "metadata": {
      "needs_background": "light"
     },
     "output_type": "display_data"
    }
   ],
   "source": [
    "plt.scatter(np.arange(4096),inputs_np[:,0])"
   ]
  },
  {
   "cell_type": "code",
   "execution_count": 20,
   "id": "82820e14",
   "metadata": {},
   "outputs": [
    {
     "data": {
      "text/plain": [
       "<matplotlib.collections.PathCollection at 0x7fad006a75b0>"
      ]
     },
     "execution_count": 20,
     "metadata": {},
     "output_type": "execute_result"
    },
    {
     "data": {
      "image/png": "[encoded data removed]",
      "text/plain": [
       "<Figure size 432x288 with 1 Axes>"
      ]
     },
     "metadata": {
      "needs_background": "light"
     },
     "output_type": "display_data"
    }
   ],
   "source": [
    "plt.scatter(np.arange(4096),inputs_np[:,1]*inputs_np[:,0])"
   ]
  },
  {
   "cell_type": "code",
   "execution_count": 33,
   "id": "fea1e182",
   "metadata": {},
   "outputs": [
    {
     "data": {
      "text/plain": [
       "131072"
      ]
     },
     "execution_count": 33,
     "metadata": {},
     "output_type": "execute_result"
    }
   ],
   "source": [
    "1<<17"
   ]
  },
  {
   "cell_type": "code",
   "execution_count": null,
   "id": "716d3caa",
   "metadata": {},
   "outputs": [],
   "source": []
  }
 ],
 "metadata": {
  "kernelspec": {
   "display_name": "Python 3 (ipykernel)",
   "language": "python",
   "name": "python3"
  },
  "language_info": {
   "codemirror_mode": {
    "name": "ipython",
    "version": 3
   },
   "file_extension": ".py",
   "mimetype": "text/x-python",
   "name": "python",
   "nbconvert_exporter": "python",
   "pygments_lexer": "ipython3",
   "version": "3.9.7"
  }
 },
 "nbformat": 4,
 "nbformat_minor": 5
}
