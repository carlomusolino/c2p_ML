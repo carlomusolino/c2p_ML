{
 "cells": [
  {
   "cell_type": "code",
   "execution_count": 1,
   "id": "839f5ebb",
   "metadata": {},
   "outputs": [],
   "source": [
    "# Physics modules\n",
    "from metric import metric\n",
    "from hybrid_eos import hybrid_eos\n",
    "\n",
    "# Numpy and matplotlib\n",
    "import numpy as np \n",
    "import matplotlib.pyplot as plt \n",
    "\n",
    "# PyTorch\n",
    "import torch\n",
    "import torch.nn as nn\n",
    "import torch.optim as optim\n",
    "import torch.nn.init as init \n",
    "import torch.nn.functional as F\n",
    "\n",
    "from torch.utils.data import DataLoader, TensorDataset, random_split\n",
    "\n",
    "import numpy as np\n",
    "import matplotlib.pyplot as plt"
   ]
  },
  {
   "cell_type": "code",
   "execution_count": 2,
   "id": "0bb03abf",
   "metadata": {},
   "outputs": [],
   "source": [
    "if torch.cuda.is_available():\n",
    "    device = torch.device('cuda')\n",
    "else:\n",
    "    device = torch.device('cpu')"
   ]
  },
  {
   "cell_type": "code",
   "execution_count": 3,
   "id": "71fae2d3",
   "metadata": {},
   "outputs": [],
   "source": [
    "class c2p_NN(nn.Module):\n",
    "    \"\"\"\n",
    "    This class defines a neural network model for the conservative-to-primitive variable transformation.\n",
    "    The network consists of several fully connected layers with ReLU activation functions and batch normalization.\n",
    "    The input to the network is a tensor of conservative variables, and the output is a tensor of primitive variables.\n",
    "    \"\"\"\n",
    "    def __init__(self, hidden_layers=3, neurons=50):\n",
    "        super(c2p_NN, self).__init__()\n",
    "        self.activation = nn.Tanh \n",
    "        input_dim = 3 \n",
    "        output_dim = 1 \n",
    "        layers = []\n",
    "        #layers.append(nn.BatchNorm1d(input_dim))\n",
    "        layers.append(nn.Linear(input_dim, neurons))  # Input layer\n",
    "        layers.append(self.activation())  # Activation\n",
    "        for _ in range(hidden_layers):\n",
    "            layers.append(nn.Linear(neurons, neurons))  # Hidden layers\n",
    "            #layers.append(nn.BatchNorm1d(neurons)) # Normalization\n",
    "            layers.append(self.activation())  # Activation\n",
    "            \n",
    "        layers.append(nn.Linear(neurons, output_dim))  # Output layer\n",
    "        # Last relu because z >= 0 \n",
    "        layers.append(nn.ReLU()                     )  # Activation\n",
    "        self.network = nn.Sequential(*layers)\n",
    "        # Initialize weights\n",
    "        self.apply(self._init_weights)\n",
    "\n",
    "    def _init_weights(self, module):\n",
    "        \"\"\" Initialize weights using Kaiming initialization \"\"\"\n",
    "        if isinstance(module, nn.Linear):\n",
    "            #init.kaiming_normal_(module.weight, nonlinearity=\"relu\")\n",
    "            init.xavier_normal_(module.weight)\n",
    "            init.zeros_(module.bias)\n",
    "    \n",
    "    def forward(self, x):\n",
    "        return self.network(x)\n"
   ]
  },
  {
   "cell_type": "code",
   "execution_count": 4,
   "id": "02e383b7",
   "metadata": {},
   "outputs": [],
   "source": [
    "class C2P_Dataset(TensorDataset):\n",
    "    \n",
    "    def __init__(self,C,Z):\n",
    "        \n",
    "        self.C = C \n",
    "        self.Z = Z \n",
    "        \n",
    "    def __len__(self):\n",
    "        return self.C.shape[0]\n",
    "    \n",
    "    def __getitem__(self,idx):\n",
    "        return self.C[idx,:], self.Z[idx]\n"
   ]
  },
  {
   "cell_type": "code",
   "execution_count": 5,
   "id": "9e07a526",
   "metadata": {},
   "outputs": [],
   "source": [
    "# Minkowski metric \n",
    "eta = metric(\n",
    "torch.eye(3,device=device), torch.zeros(3,device=device), torch.ones(1,device=device)\n",
    ")\n",
    "# Gamma = 2 EOS with ideal gas thermal contrib \n",
    "eos = hybrid_eos(100,2,1.8)"
   ]
  },
  {
   "cell_type": "code",
   "execution_count": 6,
   "id": "4374bba1",
   "metadata": {},
   "outputs": [],
   "source": [
    "def setup_initial_state_random(metric,eos,N,device,lrhomin=-12,lrhomax=-2.8,ltempmin=-1,ltempmax=2.3,Wmin=1,Wmax=2):\n",
    "    # Get W, rho and T \n",
    "    W = Wmin + (Wmax-Wmin) * torch.rand(N,device=device)\n",
    "    rho = 10**( lrhomin + (lrhomax-lrhomin) * torch.rand(N,device=device) )\n",
    "    T = 10**( ltempmin + (ltempmax-ltempmin) * torch.rand(N,device=device) )\n",
    "    # Call EOS to get press and eps \n",
    "    press,eps = eos.press_eps__temp_rho(T,rho)\n",
    "    # Compute z \n",
    "    Z = torch.sqrt(1 - 1/W**2) * W \n",
    "    \n",
    "    # Compute conserved vars \n",
    "    sqrtg = metric.sqrtg \n",
    "    u0 = W / sqrtg \n",
    "    dens = sqrtg * W * rho \n",
    "    \n",
    "    rho0_h = rho * ( 1 + eps ) + press \n",
    "    g4uptt = - 1/metric.alp**2 \n",
    "    Tuptt = rho0_h * u0**2 + press * g4uptt \n",
    "    tau = metric.alp**2 * sqrtg * Tuptt - dens \n",
    "    \n",
    "    S = torch.sqrt((W**2-1)) * rho0_h * W\n",
    "    # Assemble output \n",
    "    C = torch.cat((dens.view(-1,1)/metric.sqrtg,tau.view(-1,1)/dens.view(-1,1),S.view(-1,1)/dens.view(-1,1)),dim=1)\n",
    "    return C, Z.view(-1,1)\n",
    "\n",
    "def setup_initial_state_meshgrid(metric,eos,N,device,lrhomin=-12,lrhomax=-2.8,ltempmin=-1,ltempmax=2.3,Wmin=1,Wmax=2):\n",
    "    # Get W, rho and T \n",
    "    W = torch.linspace(Wmin,Wmax,N,device=device)\n",
    "    rho = 10**( torch.linspace(lrhomin,lrhomax,N,device=device) )\n",
    "    T = 10**( torch.linspace(ltempmin,ltempmax,N,device=device) )\n",
    "    W, rho, T = torch.meshgrid(W,rho,T, indexing='ij')\n",
    "    \n",
    "    W = W.flatten() \n",
    "    rho = rho.flatten()\n",
    "    T = T.flatten() \n",
    "    \n",
    "    # Call EOS to get press and eps \n",
    "    press,eps = eos.press_eps__temp_rho(T,rho)\n",
    "    # Compute z \n",
    "    Z = torch.sqrt(1 - 1/W**2) * W \n",
    "    \n",
    "    # Compute conserved vars \n",
    "    sqrtg = metric.sqrtg \n",
    "    u0 = W / sqrtg \n",
    "    dens = sqrtg * W * rho \n",
    "    \n",
    "    rho0_h = rho * ( 1 + eps ) + press \n",
    "    g4uptt = - 1/metric.alp**2 \n",
    "    Tuptt = rho0_h * u0**2 + press * g4uptt \n",
    "    tau = metric.alp**2 * sqrtg * Tuptt - dens \n",
    "    \n",
    "    S = torch.sqrt((W**2-1)) * rho0_h * W\n",
    "    # Assemble output \n",
    "    C = torch.cat((dens.view(-1,1)/metric.sqrtg,tau.view(-1,1)/dens.view(-1,1),S.view(-1,1)/dens.view(-1,1)),dim=1)\n",
    "    return C, Z.view(-1,1)\n",
    "    \n",
    "def sanity_check(Z,C, metric, eos):\n",
    "    t,q,r = torch.split(C,[1,1,1], dim=1)\n",
    "    htilde = h__z(Z,C,eos)\n",
    "    \n",
    "    return torch.mean((Z - r/htilde)**2)\n",
    "\n",
    "def W__z(z):\n",
    "    return torch.sqrt(1 + z**2)\n",
    "\n",
    "def rho__z(z,C):\n",
    "    return C[:,0].view(-1,1) / W__z(z)\n",
    "\n",
    "def eps__z(z,C):\n",
    "    q = C[:,1].view(-1,1)\n",
    "    r = C[:,2].view(-1,1)\n",
    "    W = W__z(z)\n",
    "    return W * q - z * r + z**2/(1+W)\n",
    "\n",
    "def a__z(z,C,eos):\n",
    "    eps = eps__z(z,C)\n",
    "    rho = rho__z(z,C)\n",
    "    press = eos.press__eps_rho(eps,rho)\n",
    "    return press/(rho*(1+eps))\n",
    "\n",
    "def h__z(z,C,eos):\n",
    "    eps = eps__z(z,C)\n",
    "    a = a__z(z,C,eos)\n",
    "    return (1 + eps)*(1+a)"
   ]
  },
  {
   "cell_type": "code",
   "execution_count": 7,
   "id": "e97a77e7",
   "metadata": {},
   "outputs": [
    {
     "name": "stdout",
     "output_type": "stream",
     "text": [
      "torch.Size([125000, 3])\n",
      "tensor(1.8677e-13, device='cuda:0')\n"
     ]
    }
   ],
   "source": [
    "C, Z = setup_initial_state_meshgrid(eta,eos,50,device)\n",
    "err = sanity_check(Z,C,eta,eos)\n",
    "print(C.shape)\n",
    "print(err)\n",
    "\n",
    "C_min, _ = torch.min(C,dim=0)\n",
    "C_max, _ = torch.max(C,dim=0)\n",
    "C = (C - C_min) / (C_max - C_min)\n",
    "Z_min, _ = torch.min(Z,dim=0)\n",
    "Z_max, _ = torch.max(Z,dim=0)\n",
    "Z = (Z - Z_min) / (Z_max - Z_min)"
   ]
  },
  {
   "cell_type": "code",
   "execution_count": 8,
   "id": "db2433a7",
   "metadata": {},
   "outputs": [],
   "source": [
    "def compute_loss(model, C, eos, metric, C_min = None, C_max = None, Z_min = None, Z_max = None):\n",
    "    '''\n",
    "    Eq (C3) of https://arxiv.org/pdf/1306.4953.pdf\n",
    "    '''\n",
    "    Z_pred = model(C)\n",
    "    if C_min is not None:\n",
    "        C = C* (C_max - C_min) + C_min\n",
    "        Z_pred = Z_pred* (Z_max - Z_min) + Z_min\n",
    "    htilde = h__z(Z_pred,C,eos)\n",
    "    return F.mse_loss(Z_pred,C[:,2].view(-1,1)/htilde)"
   ]
  },
  {
   "cell_type": "code",
   "execution_count": 9,
   "id": "413cdbf5",
   "metadata": {},
   "outputs": [],
   "source": [
    "def train_c2p_model(model,optimizer,scheduler,dataloader,validation_dataset, num_epochs,eos,metric,training_loss,validation_loss, C_min = None, C_max = None, Z_min = None, Z_max = None):\n",
    "    for epoch in range(num_epochs):\n",
    "        epoch_loss = 0 \n",
    "        \n",
    "        for C_data, _ in dataloader:\n",
    "            optimizer.zero_grad()\n",
    "            \n",
    "            loss = compute_loss(model,C_data,eos,metric,C_min,C_max,Z_min,Z_max)\n",
    "            loss.backward()\n",
    "            optimizer.step()\n",
    "            \n",
    "            epoch_loss += loss.item() \n",
    "        \n",
    "        if isinstance(scheduler, torch.optim.lr_scheduler.ReduceLROnPlateau):\n",
    "            scheduler.step(epoch_loss)\n",
    "        else:\n",
    "            scheduler.step()\n",
    "        # Compute test loss \n",
    "        C_test, Z_test = validation_dataset[:]\n",
    "        test_loss = compute_loss(model,C_test,eos,metric,C_min,C_max,Z_min,Z_max)\n",
    "        training_loss.append(epoch_loss/len(dataloader))\n",
    "        validation_loss.append(test_loss.item())\n",
    "        # Print progress\n",
    "        if epoch % 10 == 0:\n",
    "            current_lr = optimizer.param_groups[0]['lr']  # Get learning rate\n",
    "            print(f\"Epoch {epoch}, Loss: {epoch_loss/len(dataloader):.6f}, Test loss: {test_loss.item():.6f}, Learning Rate: {current_lr:.6e}\")"
   ]
  },
  {
   "cell_type": "code",
   "execution_count": 10,
   "id": "0c3d2413",
   "metadata": {},
   "outputs": [
    {
     "name": "stderr",
     "output_type": "stream",
     "text": [
      "/mnt/rafast/miler/python-env/pytorch/lib/python3.12/site-packages/torch/nn/modules/linear.py:125: UserWarning: Attempting to use hipBLASLt on an unsupported architecture! Overriding blas backend to hipblas (Triggered internally at ../aten/src/ATen/Context.cpp:296.)\n",
      "  return F.linear(input, self.weight, self.bias)\n"
     ]
    },
    {
     "name": "stdout",
     "output_type": "stream",
     "text": [
      "Epoch 0, Loss: 0.047434, Test loss: 0.018632, Learning Rate: 1.000000e-03\n",
      "Epoch 10, Loss: 0.006162, Test loss: 0.001453, Learning Rate: 1.000000e-03\n",
      "Epoch 20, Loss: 0.003064, Test loss: 0.002845, Learning Rate: 1.000000e-03\n",
      "Epoch 30, Loss: 0.002700, Test loss: 0.002531, Learning Rate: 1.000000e-03\n",
      "Epoch 40, Loss: 0.001664, Test loss: 0.000477, Learning Rate: 1.000000e-03\n",
      "Epoch 50, Loss: 0.001616, Test loss: 0.002007, Learning Rate: 1.000000e-03\n",
      "Epoch 60, Loss: 0.001358, Test loss: 0.000595, Learning Rate: 1.000000e-03\n",
      "Epoch 70, Loss: 0.001303, Test loss: 0.000366, Learning Rate: 1.000000e-03\n",
      "Epoch 80, Loss: 0.001160, Test loss: 0.000166, Learning Rate: 1.000000e-03\n",
      "Epoch 90, Loss: 0.001012, Test loss: 0.001297, Learning Rate: 1.000000e-03\n",
      "Epoch 100, Loss: 0.000834, Test loss: 0.000766, Learning Rate: 1.000000e-03\n",
      "Epoch 110, Loss: 0.000951, Test loss: 0.000632, Learning Rate: 1.000000e-03\n",
      "Epoch 120, Loss: 0.000373, Test loss: 0.000172, Learning Rate: 5.000000e-04\n",
      "Epoch 130, Loss: 0.000346, Test loss: 0.000081, Learning Rate: 5.000000e-04\n",
      "Epoch 140, Loss: 0.000105, Test loss: 0.000021, Learning Rate: 2.500000e-04\n",
      "Epoch 150, Loss: 0.000047, Test loss: 0.000012, Learning Rate: 1.250000e-04\n",
      "Epoch 160, Loss: 0.000031, Test loss: 0.000243, Learning Rate: 1.250000e-04\n",
      "Epoch 170, Loss: 0.000028, Test loss: 0.000003, Learning Rate: 1.250000e-04\n",
      "Epoch 180, Loss: 0.000008, Test loss: 0.000004, Learning Rate: 6.250000e-05\n",
      "Epoch 190, Loss: 0.000003, Test loss: 0.000031, Learning Rate: 3.125000e-05\n"
     ]
    }
   ],
   "source": [
    "neurons = 50 \n",
    "layers  = 4\n",
    "\n",
    "n_epochs = 200\n",
    "\n",
    "C_test, Z_test = setup_initial_state_random(eta,eos,1000,device)\n",
    "training_loss = []\n",
    "validation_loss = []\n",
    "\n",
    "batch_size = 32  # You can experiment with this\n",
    "dataset = C2P_Dataset(C, Z)\n",
    "\n",
    "# Define split sizes\n",
    "train_size = int(0.8 * len(dataset))  # 80% training\n",
    "val_size = len(dataset) - train_size  # 20% validation\n",
    "\n",
    "# Split dataset\n",
    "train_dataset, val_dataset = random_split(dataset, [train_size, val_size])\n",
    "\n",
    "train_dataloader = DataLoader(train_dataset, batch_size=batch_size, shuffle=True)\n",
    "\n",
    "\n",
    "net = c2p_NN(hidden_layers=layers,neurons=neurons).to(device)\n",
    "optimizer = optim.Adam(net.parameters(), lr=1e-3)\n",
    "scheduler = torch.optim.lr_scheduler.ReduceLROnPlateau(optimizer, mode='min', factor=0.5, patience=10)\n",
    "#torch.optim.lr_scheduler.StepLR(optimizer, step_size=25, gamma=0.5)\n",
    "#torch.optim.lr_scheduler.ReduceLROnPlateau(optimizer, mode='min', factor=0.5, patience=500)\n",
    "\n",
    "train_c2p_model(net,optimizer,scheduler,train_dataloader,val_dataset,n_epochs,eos,eta,training_loss,validation_loss,C_min,C_max,Z_min,Z_max)\n",
    "\n",
    "# Do one more step with LBFGS\n",
    "#optimizer = torch.optim.LBFGS(net.parameters(), lr=0.001, max_iter=50)\n",
    "#\n",
    "#def closure():\n",
    "#    optimizer.zero_grad()\n",
    "#    loss = compute_loss(net, C, eos, eta,C_min,C_max,Z_min,Z_max)\n",
    "#    loss.backward()\n",
    "#    return loss\n",
    "#\n",
    "#optimizer.step(closure)\n",
    "#\n",
    "#loss_value = closure()  # Compute the loss\n",
    "#print(f\"Final loss: {loss_value.item()}\")  \n",
    "torch.save(net.state_dict(), f\"model_L{layers}N{neurons}.pt\")"
   ]
  },
  {
   "cell_type": "code",
   "execution_count": null,
   "id": "70cc3f18",
   "metadata": {},
   "outputs": [],
   "source": []
  },
  {
   "cell_type": "code",
   "execution_count": 11,
   "id": "a5c1b66d",
   "metadata": {},
   "outputs": [
    {
     "name": "stdout",
     "output_type": "stream",
     "text": [
      "Final loss: 2.713077037697076e-06\n"
     ]
    }
   ],
   "source": [
    "# Do one more step with LBFGS\n",
    "optimizer = torch.optim.LBFGS(net.parameters(), lr=1.953125e-06, max_iter=50)\n",
    "\n",
    "def closure():\n",
    "    optimizer.zero_grad()\n",
    "    loss = compute_loss(net, C, eos, eta,C_min,C_max,Z_min,Z_max)\n",
    "    loss.backward()\n",
    "    return loss\n",
    "\n",
    "optimizer.step(closure)\n",
    "\n",
    "loss_value = closure()  # Compute the loss\n",
    "print(f\"Final loss: {loss_value.item()}\")  "
   ]
  },
  {
   "cell_type": "code",
   "execution_count": 12,
   "id": "4cba15dc",
   "metadata": {},
   "outputs": [
    {
     "name": "stdout",
     "output_type": "stream",
     "text": [
      "Sanity check:  tensor(1.9547e-13, device='cuda:0')\n",
      "Network error:  tensor(6.2435e-05, device='cuda:0', grad_fn=<MseLossBackward0>)\n"
     ]
    }
   ],
   "source": [
    "C_test_norm = (C_test-C_min)/(C_max-C_min)\n",
    "Z_test_norm = (Z_test-Z_min)/(Z_max-Z_min)\n",
    "Z_pred = net(C_test)\n",
    "print(\"Sanity check: \",sanity_check(Z_test,C_test,eta,eos))\n",
    "print(\"Network error: \",compute_loss(net,C_test_norm,eos,eta,C_min,C_max,Z_min,Z_max) )"
   ]
  },
  {
   "cell_type": "code",
   "execution_count": 13,
   "id": "4fb2d574",
   "metadata": {},
   "outputs": [
    {
     "data": {
      "text/plain": [
       "<matplotlib.legend.Legend at 0x776258b4bbf0>"
      ]
     },
     "execution_count": 13,
     "metadata": {},
     "output_type": "execute_result"
    },
    {
     "data": {
      "image/png": "[encoded data removed]",
      "text/plain": [
       "<Figure size 640x480 with 1 Axes>"
      ]
     },
     "metadata": {},
     "output_type": "display_data"
    }
   ],
   "source": [
    "fig,ax = plt.subplots()\n",
    "ax.semilogy(training_loss,label='Training loss', color=\"blue\")\n",
    "ax.semilogy(validation_loss,label='Validation loss', color=\"red\")\n",
    "\n",
    "\n",
    "ax.set_xlabel(\"Epoch\")\n",
    "ax.set_ylabel(\"Loss\")\n",
    "ax.legend()"
   ]
  },
  {
   "cell_type": "code",
   "execution_count": 14,
   "id": "d908425a",
   "metadata": {},
   "outputs": [
    {
     "name": "stderr",
     "output_type": "stream",
     "text": [
      "/mnt/rafast/miler/python-env/pytorch/lib/python3.12/site-packages/torch/functional.py:534: UserWarning: torch.meshgrid: in an upcoming release, it will be required to pass the indexing argument. (Triggered internally at ../aten/src/ATen/native/TensorShape.cpp:3595.)\n",
      "  return _VF.meshgrid(tensors, **kwargs)  # type: ignore[attr-defined]\n"
     ]
    }
   ],
   "source": [
    "x = torch.linspace(1,2,100)\n",
    "y = torch.linspace(1,2,100)\n",
    "z = torch.linspace(1,2,100)\n",
    "X,Y,Z = torch.meshgrid(x,y,z)"
   ]
  }
 ],
 "metadata": {
  "kernelspec": {
   "display_name": "pytorch",
   "language": "python",
   "name": "python3"
  },
  "language_info": {
   "codemirror_mode": {
    "name": "ipython",
    "version": 3
   },
   "file_extension": ".py",
   "mimetype": "text/x-python",
   "name": "python",
   "nbconvert_exporter": "python",
   "pygments_lexer": "ipython3",
   "version": "3.12.3"
  }
 },
 "nbformat": 4,
 "nbformat_minor": 5
}
