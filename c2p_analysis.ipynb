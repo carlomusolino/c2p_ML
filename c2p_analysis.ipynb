{
 "cells": [
  {
   "cell_type": "code",
   "execution_count": 22,
   "metadata": {},
   "outputs": [],
   "source": [
    "# Physics modules\n",
    "from metric import metric\n",
    "from hybrid_eos import hybrid_eos\n",
    "\n",
    "# Numpy and matplotlib\n",
    "import numpy as np \n",
    "import matplotlib.pyplot as plt \n",
    "\n",
    "# PyTorch\n",
    "import torch\n",
    "import torch.nn as nn\n",
    "import torch.optim as optim\n",
    "import torch.nn.init as init \n",
    "import torch.nn.functional as F\n",
    "\n",
    "from torch.utils.data import DataLoader, TensorDataset, random_split\n",
    "\n",
    "import numpy as np\n",
    "import matplotlib.pyplot as plt\n",
    "\n",
    "from data_utils import * "
   ]
  },
  {
   "cell_type": "code",
   "execution_count": 23,
   "metadata": {},
   "outputs": [],
   "source": [
    "use_fp64 = True  # Toggle this to switch precision\n",
    "\n",
    "device = torch.device('cuda' if torch.cuda.is_available() else 'cpu')\n",
    "\n",
    "dtype = torch.float64 if use_fp64 else torch.float32"
   ]
  },
  {
   "cell_type": "code",
   "execution_count": 24,
   "metadata": {},
   "outputs": [],
   "source": [
    "def init_weights(m):\n",
    "    if isinstance(m, nn.Linear):\n",
    "        nn.init.kaiming_normal_(m.weight, nonlinearity='relu')  # Use 'relu' for SiLU\n",
    "        if m.bias is not None:\n",
    "            nn.init.zeros_(m.bias)  # Initialize biases to 0\n",
    "\n",
    "\n",
    "class C2PNet(nn.Module):\n",
    "    def __init__(self, dtype=torch.float64):\n",
    "        super(C2PNet, self).__init__()\n",
    "        self.fc1 = nn.Linear(3, 64, dtype=dtype)\n",
    "        self.fc2 = nn.Linear(64, 128, dtype=dtype)\n",
    "        self.fc3 = nn.Linear(128, 128, dtype=dtype)\n",
    "        self.fc4 = nn.Linear(128, 64, dtype=dtype)\n",
    "        self.fc5 = nn.Linear(64+3, 1, dtype=dtype)  # Single output z = W v\n",
    "        self.activation = nn.SiLU()  # Smooth activation\n",
    "        self.output = nn.ReLU() # Ensure positivity of z\n",
    "        self.apply(init_weights)\n",
    "        \n",
    "    def forward(self, x):\n",
    "        identity = x  # Residual connection using one input component\n",
    "        x = self.activation(self.fc1(x))\n",
    "        x = self.activation(self.fc2(x))\n",
    "        x = self.activation(self.fc3(x))\n",
    "        x = self.activation(self.fc4(x))\n",
    "        x = torch.cat([x, identity], dim=1)\n",
    "        x = self.output(self.fc5(x))   # Residual connection\n",
    "        return x"
   ]
  },
  {
   "cell_type": "code",
   "execution_count": 25,
   "metadata": {},
   "outputs": [],
   "source": [
    "class C2P_Dataset(TensorDataset):\n",
    "    \n",
    "    def __init__(self,C,Z,normalize_data=True):\n",
    "        \n",
    "        self.C = C.to(dtype)\n",
    "        self.Z = Z.to(dtype)\n",
    "        \n",
    "        if normalize_data:\n",
    "            self.normalize()\n",
    "        \n",
    "    def normalize(self):\n",
    "        self.C_max = torch.max(self.C, dim=0, keepdim=True)[0]\n",
    "        self.C_min = torch.min(self.C, dim=0, keepdim=True)[0]\n",
    "        self.C = (self.C - self.C_min)/(self.C_max-self.C_min)\n",
    "        self.Z_max = torch.max(self.Z, dim=0, keepdim=True)[0]\n",
    "        self.Z_min = torch.min(self.Z, dim=0, keepdim=True)[0]\n",
    "        self.Z = (self.Z - self.Z_min)/(self.Z_max-self.Z_min)\n",
    "        \n",
    "    def __len__(self):\n",
    "        return self.C.shape[0]\n",
    "    \n",
    "    def __getitem__(self,idx):\n",
    "        return self.C[idx,:], self.Z[idx,:]"
   ]
  },
  {
   "cell_type": "code",
   "execution_count": 26,
   "metadata": {},
   "outputs": [],
   "source": [
    "# Minkowski metric \n",
    "eta = metric(\n",
    "torch.eye(3,device=device), torch.zeros(3,device=device), torch.ones(1,device=device)\n",
    ")\n",
    "# Gamma = 2 EOS with ideal gas thermal contrib \n",
    "eos = hybrid_eos(100,2,1.8)"
   ]
  },
  {
   "cell_type": "code",
   "execution_count": null,
   "metadata": {},
   "outputs": [
    {
     "name": "stderr",
     "output_type": "stream",
     "text": [
      "/tmp/ipykernel_2913593/3740757650.py:1: FutureWarning: You are using `torch.load` with `weights_only=False` (the current default value), which uses the default pickle module implicitly. It is possible to construct malicious pickle data which will execute arbitrary code during unpickling (See https://github.com/pytorch/pytorch/blob/main/SECURITY.md#untrusted-models for more details). In a future release, the default value for `weights_only` will be flipped to `True`. This limits the functions that could be executed during unpickling. Arbitrary objects will no longer be allowed to be loaded via this mode unless they are explicitly allowlisted by the user via `torch.serialization.add_safe_globals`. We recommend you start setting `weights_only=True` for any use case where you don't have full control of the loaded file. Please open an issue on GitHub for any issues related to this experimental feature.\n",
      "  C_max = torch.load(\"C_max.pt\")\n",
      "/tmp/ipykernel_2913593/3740757650.py:2: FutureWarning: You are using `torch.load` with `weights_only=False` (the current default value), which uses the default pickle module implicitly. It is possible to construct malicious pickle data which will execute arbitrary code during unpickling (See https://github.com/pytorch/pytorch/blob/main/SECURITY.md#untrusted-models for more details). In a future release, the default value for `weights_only` will be flipped to `True`. This limits the functions that could be executed during unpickling. Arbitrary objects will no longer be allowed to be loaded via this mode unless they are explicitly allowlisted by the user via `torch.serialization.add_safe_globals`. We recommend you start setting `weights_only=True` for any use case where you don't have full control of the loaded file. Please open an issue on GitHub for any issues related to this experimental feature.\n",
      "  C_min = torch.load(\"C_min.pt\")\n",
      "/tmp/ipykernel_2913593/3740757650.py:3: FutureWarning: You are using `torch.load` with `weights_only=False` (the current default value), which uses the default pickle module implicitly. It is possible to construct malicious pickle data which will execute arbitrary code during unpickling (See https://github.com/pytorch/pytorch/blob/main/SECURITY.md#untrusted-models for more details). In a future release, the default value for `weights_only` will be flipped to `True`. This limits the functions that could be executed during unpickling. Arbitrary objects will no longer be allowed to be loaded via this mode unless they are explicitly allowlisted by the user via `torch.serialization.add_safe_globals`. We recommend you start setting `weights_only=True` for any use case where you don't have full control of the loaded file. Please open an issue on GitHub for any issues related to this experimental feature.\n",
      "  Z_max = torch.load(\"Z_max.pt\")\n",
      "/tmp/ipykernel_2913593/3740757650.py:4: FutureWarning: You are using `torch.load` with `weights_only=False` (the current default value), which uses the default pickle module implicitly. It is possible to construct malicious pickle data which will execute arbitrary code during unpickling (See https://github.com/pytorch/pytorch/blob/main/SECURITY.md#untrusted-models for more details). In a future release, the default value for `weights_only` will be flipped to `True`. This limits the functions that could be executed during unpickling. Arbitrary objects will no longer be allowed to be loaded via this mode unless they are explicitly allowlisted by the user via `torch.serialization.add_safe_globals`. We recommend you start setting `weights_only=True` for any use case where you don't have full control of the loaded file. Please open an issue on GitHub for any issues related to this experimental feature.\n",
      "  Z_min = torch.load(\"Z_min.pt\")\n"
     ]
    }
   ],
   "source": [
    "C_max = torch.load(\"C_max.pt\").to(device)\n",
    "C_min = torch.load(\"C_min.pt\").to(device)\n",
    "Z_max = torch.load(\"Z_max.pt\").to(device)\n",
    "Z_min = torch.load(\"Z_min.pt\").to(device)"
   ]
  },
  {
   "cell_type": "code",
   "execution_count": 28,
   "metadata": {},
   "outputs": [
    {
     "data": {
      "text/plain": [
       "C2PNet(\n",
       "  (fc1): Linear(in_features=3, out_features=64, bias=True)\n",
       "  (fc2): Linear(in_features=64, out_features=128, bias=True)\n",
       "  (fc3): Linear(in_features=128, out_features=128, bias=True)\n",
       "  (fc4): Linear(in_features=128, out_features=64, bias=True)\n",
       "  (fc5): Linear(in_features=67, out_features=1, bias=True)\n",
       "  (activation): SiLU()\n",
       "  (output): ReLU()\n",
       ")"
      ]
     },
     "execution_count": 28,
     "metadata": {},
     "output_type": "execute_result"
    }
   ],
   "source": [
    "modelfile = \"model_11.pt\"\n",
    "\n",
    "net = C2PNet(dtype=dtype).to(device)\n",
    "net.load_state_dict(torch.load(modelfile,weights_only=True))\n",
    "\n",
    "net.eval() "
   ]
  },
  {
   "cell_type": "code",
   "execution_count": 29,
   "metadata": {},
   "outputs": [],
   "source": [
    "def log_cosh_loss(y_true, y_pred):\n",
    "    return torch.mean(torch.log(torch.cosh(y_pred - y_true)))\n",
    "\n",
    "def compute_loss(model, C,C_min, C_max,  Z,Z_min,Z_max, eos):\n",
    "    '''\n",
    "    Eq (C3) of https://arxiv.org/pdf/1306.4953.pdf\n",
    "    '''\n",
    "    dtype = torch.float64\n",
    "    Z_pred = model(C) # Data is normalized inside dataset constructor \n",
    "    C_real = C * (C_max - C_min) + C_min\n",
    "    Z_real = Z * (Z_max - Z_min) + Z_min\n",
    "    htilde = h__z(Z_real,C_real,eos)\n",
    "    MSEr = log_cosh_loss(Z_real,C_real[:,2].view(-1,1)/htilde).to(dtype)\n",
    " \n",
    "    return log_cosh_loss(Z_pred,Z).to(dtype) + MSEr "
   ]
  },
  {
   "cell_type": "code",
   "execution_count": 30,
   "metadata": {},
   "outputs": [],
   "source": [
    "class c2p:\n",
    "    \n",
    "    def __init__(self,model,eos,C_min,C_max,Z_min,Z_max):\n",
    "        self.model = model\n",
    "        self.C_min = C_min\n",
    "        self.C_max = C_max\n",
    "        self.Z_min = Z_min\n",
    "        self.Z_max = Z_max \n",
    "        self.eos = eos \n",
    "    \n",
    "    def invert(self,C):\n",
    "        with torch.no_grad():\n",
    "            Z = self.model((C-self.C_min)/(self.C_max-self.C_min))\n",
    "        Z = Z * (self.Z_max-self.Z_min) + self.Z_min\n",
    "        \n",
    "        rho = rho__z(Z,C)\n",
    "        W   = W__z(Z)\n",
    "        eps = eps__z(Z,C)\n",
    "        press = self.eos.press__eps_rho(eps,rho)\n",
    "        return rho,eps,press,W "
   ]
  },
  {
   "cell_type": "code",
   "execution_count": 31,
   "metadata": {},
   "outputs": [],
   "source": [
    "# Get W, rho and T \n",
    "Wmin = 1.2 \n",
    "Wmax = 1.8 \n",
    "lrhomin = -12\n",
    "lrhomax = -2.8\n",
    "N = 200\n",
    "W   = torch.linspace(Wmin,Wmax,N,device=device)\n",
    "rho = 10**(torch.linspace(lrhomin,lrhomax,N,device=device))\n",
    "\n",
    "# Meshgrid\n",
    "rhom, Wm = torch.meshgrid(rho,W, indexing='ij')\n",
    "\n",
    "# Flatten\n",
    "rho = rhom.flatten()\n",
    "W = Wm.flatten() \n",
    "\n",
    "# Temperature (0)\n",
    "T   = torch.zeros_like(rho,device=device)\n",
    "\n",
    "# Call EOS to get press and eps \n",
    "press,eps = eos.press_eps__temp_rho(T,rho)\n",
    "# Compute z \n",
    "Z = torch.sqrt(1 - 1/W**2) * W \n",
    "\n",
    "# Compute conserved vars \n",
    "sqrtg = eta.sqrtg \n",
    "u0 = W / sqrtg \n",
    "dens = sqrtg * W * rho \n",
    "\n",
    "rho0_h = rho * ( 1 + eps ) + press \n",
    "g4uptt = - 1/eta.alp**2 \n",
    "Tuptt = rho0_h * u0**2 + press * g4uptt \n",
    "tau = eta.alp**2 * sqrtg * Tuptt - dens \n",
    "\n",
    "S = torch.sqrt((W**2-1)) * rho0_h * W\n",
    "# Assemble output \n",
    "C = torch.cat((dens.view(-1,1)/eta.sqrtg,tau.view(-1,1)/dens.view(-1,1),S.view(-1,1)/dens.view(-1,1)),dim=1).to(dtype)\n",
    "\n",
    "RHO = rhom.view(N,N).cpu().detach().numpy()\n",
    "WW  = Wm.view(N,N).cpu().detach().numpy()\n"
   ]
  },
  {
   "cell_type": "code",
   "execution_count": 32,
   "metadata": {},
   "outputs": [
    {
     "ename": "RuntimeError",
     "evalue": "Expected all tensors to be on the same device, but found at least two devices, cuda:0 and cpu!",
     "output_type": "error",
     "traceback": [
      "\u001b[0;31m---------------------------------------------------------------------------\u001b[0m",
      "\u001b[0;31mRuntimeError\u001b[0m                              Traceback (most recent call last)",
      "Cell \u001b[0;32mIn[32], line 2\u001b[0m\n\u001b[1;32m      1\u001b[0m inverter \u001b[38;5;241m=\u001b[39m c2p(net,eos,C_min,C_max,Z_min,Z_max)\n\u001b[0;32m----> 2\u001b[0m rho_pred,eps_pred,press_pred,W_pred \u001b[38;5;241m=\u001b[39m \u001b[43minverter\u001b[49m\u001b[38;5;241;43m.\u001b[39;49m\u001b[43minvert\u001b[49m\u001b[43m(\u001b[49m\u001b[43mC\u001b[49m\u001b[43m)\u001b[49m\n\u001b[1;32m      3\u001b[0m rho_res \u001b[38;5;241m=\u001b[39m (torch\u001b[38;5;241m.\u001b[39mabs(rho_pred\u001b[38;5;241m-\u001b[39mrho\u001b[38;5;241m.\u001b[39mview(\u001b[38;5;241m-\u001b[39m\u001b[38;5;241m1\u001b[39m,\u001b[38;5;241m1\u001b[39m))\u001b[38;5;241m/\u001b[39mrho\u001b[38;5;241m.\u001b[39mview(\u001b[38;5;241m-\u001b[39m\u001b[38;5;241m1\u001b[39m,\u001b[38;5;241m1\u001b[39m))\u001b[38;5;241m.\u001b[39mview(N,N)\u001b[38;5;241m.\u001b[39mcpu()\u001b[38;5;241m.\u001b[39mdetach()\u001b[38;5;241m.\u001b[39mnumpy()\n\u001b[1;32m      4\u001b[0m eps_res \u001b[38;5;241m=\u001b[39m (torch\u001b[38;5;241m.\u001b[39mabs(eps_pred\u001b[38;5;241m-\u001b[39meps\u001b[38;5;241m.\u001b[39mview(\u001b[38;5;241m-\u001b[39m\u001b[38;5;241m1\u001b[39m,\u001b[38;5;241m1\u001b[39m))\u001b[38;5;241m/\u001b[39meps\u001b[38;5;241m.\u001b[39mview(\u001b[38;5;241m-\u001b[39m\u001b[38;5;241m1\u001b[39m,\u001b[38;5;241m1\u001b[39m))\u001b[38;5;241m.\u001b[39mview(N,N)\u001b[38;5;241m.\u001b[39mcpu()\u001b[38;5;241m.\u001b[39mdetach()\u001b[38;5;241m.\u001b[39mnumpy()\n",
      "Cell \u001b[0;32mIn[30], line 13\u001b[0m, in \u001b[0;36mc2p.invert\u001b[0;34m(self, C)\u001b[0m\n\u001b[1;32m     11\u001b[0m \u001b[38;5;28;01mdef\u001b[39;00m \u001b[38;5;21minvert\u001b[39m(\u001b[38;5;28mself\u001b[39m,C):\n\u001b[1;32m     12\u001b[0m     \u001b[38;5;28;01mwith\u001b[39;00m torch\u001b[38;5;241m.\u001b[39mno_grad():\n\u001b[0;32m---> 13\u001b[0m         Z \u001b[38;5;241m=\u001b[39m \u001b[38;5;28mself\u001b[39m\u001b[38;5;241m.\u001b[39mmodel((\u001b[43mC\u001b[49m\u001b[38;5;241;43m-\u001b[39;49m\u001b[38;5;28;43mself\u001b[39;49m\u001b[38;5;241;43m.\u001b[39;49m\u001b[43mC_min\u001b[49m)\u001b[38;5;241m/\u001b[39m(\u001b[38;5;28mself\u001b[39m\u001b[38;5;241m.\u001b[39mC_max\u001b[38;5;241m-\u001b[39m\u001b[38;5;28mself\u001b[39m\u001b[38;5;241m.\u001b[39mC_min))\n\u001b[1;32m     14\u001b[0m     Z \u001b[38;5;241m=\u001b[39m Z \u001b[38;5;241m*\u001b[39m (\u001b[38;5;28mself\u001b[39m\u001b[38;5;241m.\u001b[39mZ_max\u001b[38;5;241m-\u001b[39m\u001b[38;5;28mself\u001b[39m\u001b[38;5;241m.\u001b[39mZ_min) \u001b[38;5;241m+\u001b[39m \u001b[38;5;28mself\u001b[39m\u001b[38;5;241m.\u001b[39mZ_min\n\u001b[1;32m     16\u001b[0m     rho \u001b[38;5;241m=\u001b[39m rho__z(Z,C)\n",
      "\u001b[0;31mRuntimeError\u001b[0m: Expected all tensors to be on the same device, but found at least two devices, cuda:0 and cpu!"
     ]
    }
   ],
   "source": [
    "inverter = c2p(net,eos,C_min,C_max,Z_min,Z_max)\n",
    "rho_pred,eps_pred,press_pred,W_pred = inverter.invert(C)\n",
    "rho_res = (torch.abs(rho_pred-rho.view(-1,1))/rho.view(-1,1)).view(N,N).cpu().detach().numpy()\n",
    "eps_res = (torch.abs(eps_pred-eps.view(-1,1))/eps.view(-1,1)).view(N,N).cpu().detach().numpy()\n",
    "press_res = (torch.abs(press_pred-press.view(-1,1))/press.view(-1,1)).view(N,N).cpu().detach().numpy()\n",
    "W_res = (torch.abs(W_pred-W.view(-1,1))/W.view(-1,1)).view(N,N).cpu().detach().numpy()"
   ]
  },
  {
   "cell_type": "code",
   "execution_count": null,
   "metadata": {},
   "outputs": [],
   "source": [
    "with torch.no_grad():\n",
    "    Zp = net((C-C_min)/(C_max-C_min))\n",
    "Zp = Zp * (Z_max-Z_min) + Z_min\n",
    "Zp = Zp.view(N,N).detach().cpu().numpy()\n",
    "fig, ax = plt.subplots() \n",
    "\n",
    "a = ax.pcolormesh(RHO,WW,np.log10(np.abs(Z.view(N,N).detach().cpu().numpy()-Zp)))\n",
    "plt.colorbar(a)"
   ]
  }
 ],
 "metadata": {
  "kernelspec": {
   "display_name": "numrel",
   "language": "python",
   "name": "python3"
  },
  "language_info": {
   "codemirror_mode": {
    "name": "ipython",
    "version": 3
   },
   "file_extension": ".py",
   "mimetype": "text/x-python",
   "name": "python",
   "nbconvert_exporter": "python",
   "pygments_lexer": "ipython3",
   "version": "3.10.8"
  }
 },
 "nbformat": 4,
 "nbformat_minor": 2
}
