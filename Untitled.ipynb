{
 "cells": [
  {
   "cell_type": "code",
   "execution_count": 1,
   "id": "604db65a",
   "metadata": {},
   "outputs": [],
   "source": [
    "from metric import metric\n",
    "import numpy as np "
   ]
  },
  {
   "cell_type": "code",
   "execution_count": 2,
   "id": "7e57e31c",
   "metadata": {},
   "outputs": [],
   "source": [
    "v = [1,2,3]"
   ]
  },
  {
   "cell_type": "code",
   "execution_count": 3,
   "id": "d4437f79",
   "metadata": {},
   "outputs": [],
   "source": [
    "eta = metric(\n",
    "np.eye(3), np.zeros(3), 1\n",
    ")"
   ]
  },
  {
   "cell_type": "code",
   "execution_count": 4,
   "id": "2314e14c",
   "metadata": {},
   "outputs": [
    {
     "data": {
      "text/plain": [
       "1.0"
      ]
     },
     "execution_count": 4,
     "metadata": {},
     "output_type": "execute_result"
    }
   ],
   "source": [
    "eta.sqrtg"
   ]
  },
  {
   "cell_type": "code",
   "execution_count": 5,
   "id": "4495aa17",
   "metadata": {},
   "outputs": [],
   "source": [
    "from hybrid_eos import hybrid_eos"
   ]
  },
  {
   "cell_type": "code",
   "execution_count": 6,
   "id": "740015e7",
   "metadata": {},
   "outputs": [],
   "source": [
    "eos = hybrid_eos(100,2,1.8)"
   ]
  },
  {
   "cell_type": "code",
   "execution_count": 7,
   "id": "2ae73c47",
   "metadata": {},
   "outputs": [],
   "source": [
    "logrho = np.linspace(-14,np.log10(2e-02),100)\n",
    "press = eos.press__eps_rho(0, 10**logrho)\n"
   ]
  },
  {
   "cell_type": "code",
   "execution_count": 8,
   "id": "5a0e2eb3",
   "metadata": {},
   "outputs": [],
   "source": [
    "import matplotlib.pyplot as plt "
   ]
  },
  {
   "cell_type": "code",
   "execution_count": 9,
   "id": "7a577faa",
   "metadata": {},
   "outputs": [
    {
     "data": {
      "text/plain": [
       "[<matplotlib.lines.Line2D at 0x7fdbb8596370>]"
      ]
     },
     "execution_count": 9,
     "metadata": {},
     "output_type": "execute_result"
    },
    {
     "data": {
      "image/png": "[encoded data removed]",
      "text/plain": [
       "<Figure size 432x288 with 1 Axes>"
      ]
     },
     "metadata": {
      "needs_background": "light"
     },
     "output_type": "display_data"
    }
   ],
   "source": [
    "plt.semilogy(logrho, press)"
   ]
  },
  {
   "cell_type": "code",
   "execution_count": 10,
   "id": "acdae7c0",
   "metadata": {},
   "outputs": [],
   "source": [
    "from c2p import *"
   ]
  },
  {
   "cell_type": "code",
   "execution_count": 11,
   "id": "f926274b",
   "metadata": {},
   "outputs": [],
   "source": [
    "rho = 1.28e-03\n",
    "press = 100 * rho**2 \n",
    "eps = press/rho\n",
    "\n",
    "p = prims([rho,0,0,0,eps,press])"
   ]
  },
  {
   "cell_type": "code",
   "execution_count": 12,
   "id": "fa1596f2",
   "metadata": {},
   "outputs": [],
   "source": [
    "def get_W(metric,prims):\n",
    "    v2 = metric.squareU(prims.vel)\n",
    "    return 1./np.sqrt(1-v2)\n",
    "\n",
    "def p2c(metric,prims):\n",
    "    W = get_W(metric,prims)\n",
    "    \n",
    "    u0 = W / metric.alp \n",
    "    alp_sqrtgamma = metric.alp * metric.sqrtg\n",
    "    \n",
    "    dens = metric.sqrtg * W * prims.rho \n",
    "    \n",
    "    one_over_alp2 = 1./metric.alp**2\n",
    "    rho0_h = prims.rho * ( 1 + prims.eps ) + prims.press\n",
    "    alp2_sqrtgamma = metric.alp**2 * metric.sqrtg\n",
    "    g4uptt = - one_over_alp2\n",
    "    \n",
    "    Tuptt = rho0_h * u0**2 + prims.press * g4uptt\n",
    "    \n",
    "    tau = alp2_sqrtgamma * Tuptt - dens\n",
    "    \n",
    "    uD = metric.Lower(prims.vel+metric.beta) * u0\n",
    "    \n",
    "    stilde = alp_sqrtgamma * rho0_h*u0*uD\n",
    "    \n",
    "    return conservs([dens,stilde[0],stilde[1],stilde[2],tau])\n",
    "\n",
    "def undensitize(metric,cons):\n",
    "    cons.dens /= metric.sqrtg\n",
    "    cons.stilde /= metric.sqrtg\n",
    "    cons.tau /= metric.sqrtg\n",
    "    \n",
    "def densitize(metric,cons):\n",
    "    cons.dens *= metric.sqrtg\n",
    "    cons.stilde *= metric.sqrtg\n",
    "    cons.tau *= metric.sqrtg"
   ]
  },
  {
   "cell_type": "code",
   "execution_count": 13,
   "id": "5f1a3e88",
   "metadata": {},
   "outputs": [],
   "source": [
    "cons = p2c(eta,p)"
   ]
  },
  {
   "cell_type": "code",
   "execution_count": 14,
   "id": "ce3a6a4d",
   "metadata": {},
   "outputs": [
    {
     "data": {
      "text/plain": [
       "0.00128"
      ]
     },
     "execution_count": 14,
     "metadata": {},
     "output_type": "execute_result"
    }
   ],
   "source": [
    "cons.dens"
   ]
  },
  {
   "cell_type": "code",
   "execution_count": 15,
   "id": "19e71cff",
   "metadata": {},
   "outputs": [],
   "source": [
    "inverter = c2p(eta,cons,eos)"
   ]
  },
  {
   "cell_type": "code",
   "execution_count": 16,
   "id": "fda579e6",
   "metadata": {},
   "outputs": [
    {
     "name": "stdout",
     "output_type": "stream",
     "text": [
      "Primitives:\n",
      "           rho:    0.00128\n",
      "           vel:    [0. 0. 0.]\n",
      "           eps:    0.128\n",
      "           press:  0.00016384\n",
      "        \n"
     ]
    }
   ],
   "source": [
    "p1 = inverter.invert()\n",
    "print(p1)"
   ]
  },
  {
   "cell_type": "code",
   "execution_count": 17,
   "id": "81af2e3d",
   "metadata": {},
   "outputs": [
    {
     "name": "stdout",
     "output_type": "stream",
     "text": [
      "Primitives:\n",
      "           rho:    0.00128\n",
      "           vel:    [0 0 0]\n",
      "           eps:    0.128\n",
      "           press:  0.00016384\n",
      "        \n"
     ]
    }
   ],
   "source": [
    "print(p)"
   ]
  },
  {
   "cell_type": "code",
   "execution_count": 18,
   "id": "6039dd01",
   "metadata": {},
   "outputs": [
    {
     "name": "stdout",
     "output_type": "stream",
     "text": [
      "1.7347234759768056e-16\n"
     ]
    }
   ],
   "source": [
    "print(p1-p)"
   ]
  },
  {
   "cell_type": "code",
   "execution_count": 19,
   "id": "d8d4f0c5",
   "metadata": {},
   "outputs": [],
   "source": [
    "def get_random_velocity(W):\n",
    "    # generate random unit vector \n",
    "    #zvec = np.random.uniform(-1, 1, 3)\n",
    "    zvec = np.array([1.,0,0])\n",
    "    zvec /= np.linalg.norm(zvec)\n",
    "    \n",
    "    # rescale by desired Lorentz factor\n",
    "    znorm = np.sqrt(W**2-1)\n",
    "    zvec *= znorm\n",
    "    \n",
    "    # convert to velocity\n",
    "    return np.array([0,0,0]) #zvec/W"
   ]
  },
  {
   "cell_type": "code",
   "execution_count": 20,
   "id": "7b1dcc19",
   "metadata": {},
   "outputs": [],
   "source": [
    "ltemp = np.linspace(-1,2.3,100)\n",
    "lrho  = np.linspace(-12,-2.8,100)"
   ]
  },
  {
   "cell_type": "code",
   "execution_count": 21,
   "id": "c9908eab",
   "metadata": {},
   "outputs": [],
   "source": [
    "def fill_prims(W,ltemp,lrho,eos):\n",
    "    primitives = np.empty([len(ltemp),len(lrho)],dtype=prims)\n",
    "    for i in range(len(ltemp)):\n",
    "        for j in range(len(lrho)):\n",
    "            T = 10**ltemp[i]\n",
    "            rho = 10**lrho[j]\n",
    "            vel = get_random_velocity(W)\n",
    "            press,eps = eos.press_eps__temp_rho(T,rho)\n",
    "            primitives[i,j] = prims([rho,vel[0],vel[1],vel[2],eps,press])\n",
    "    return primitives"
   ]
  },
  {
   "cell_type": "code",
   "execution_count": 22,
   "id": "b5a84733",
   "metadata": {},
   "outputs": [],
   "source": [
    "primitives = fill_prims(1.2,ltemp,lrho,eos)"
   ]
  },
  {
   "cell_type": "code",
   "execution_count": 23,
   "id": "7a05f2a6",
   "metadata": {},
   "outputs": [],
   "source": [
    "def check(primitives,metric,eos):\n",
    "    res = np.zeros(primitives.shape)\n",
    "    \n",
    "    for i in range(res.shape[0]):\n",
    "        for j in range(res.shape[1]):\n",
    "            cons = p2c(metric,primitives[i,j])\n",
    "            inverter = c2p(metric,cons,eos)\n",
    "            res[i,j] = primitives[i,j] - inverter.invert()\n",
    "            \n",
    "    \n",
    "    return res"
   ]
  },
  {
   "cell_type": "code",
   "execution_count": 24,
   "id": "8bebb1af",
   "metadata": {},
   "outputs": [],
   "source": [
    "res = check(primitives,eta,eos)"
   ]
  },
  {
   "cell_type": "code",
   "execution_count": 37,
   "id": "c689a61a",
   "metadata": {},
   "outputs": [
    {
     "data": {
      "text/plain": [
       "<matplotlib.colorbar.Colorbar at 0x7fdbb94266a0>"
      ]
     },
     "execution_count": 37,
     "metadata": {},
     "output_type": "execute_result"
    },
    {
     "data": {
      "image/png": "[encoded data removed]",
      "text/plain": [
       "<Figure size 432x288 with 2 Axes>"
      ]
     },
     "metadata": {
      "needs_background": "light"
     },
     "output_type": "display_data"
    }
   ],
   "source": [
    "plt.contourf(10**ltemp,10**lrho,res.T,levels=100)\n",
    "plt.colorbar()"
   ]
  },
  {
   "cell_type": "code",
   "execution_count": 40,
   "id": "8ebf6c47",
   "metadata": {},
   "outputs": [
    {
     "data": {
      "text/plain": [
       "<matplotlib.contour.QuadContourSet at 0x7fdbc0d59430>"
      ]
     },
     "execution_count": 40,
     "metadata": {},
     "output_type": "execute_result"
    },
    {
     "data": {
      "image/png": "[encoded data removed]",
      "text/plain": [
       "<Figure size 432x288 with 1 Axes>"
      ]
     },
     "metadata": {
      "needs_background": "light"
     },
     "output_type": "display_data"
    }
   ],
   "source": [
    "plt.contourf(res,levels=100)\n"
   ]
  },
  {
   "cell_type": "code",
   "execution_count": 26,
   "id": "9f04ca9c",
   "metadata": {},
   "outputs": [],
   "source": [
    "eps = np.zeros(res.shape)\n",
    "for i in range(res.shape[0]):\n",
    "    for j in range(res.shape[1]):\n",
    "        eps[i,j] = primitives[i,j].eps"
   ]
  },
  {
   "cell_type": "code",
   "execution_count": 27,
   "id": "48bf36ed",
   "metadata": {},
   "outputs": [
    {
     "data": {
      "text/plain": [
       "<matplotlib.contour.QuadContourSet at 0x7fdbda5196a0>"
      ]
     },
     "execution_count": 27,
     "metadata": {},
     "output_type": "execute_result"
    },
    {
     "data": {
      "image/png": "[encoded data removed]",
      "text/plain": [
       "<Figure size 432x288 with 1 Axes>"
      ]
     },
     "metadata": {
      "needs_background": "light"
     },
     "output_type": "display_data"
    }
   ],
   "source": [
    "plt.contourf(eps)"
   ]
  },
  {
   "cell_type": "code",
   "execution_count": null,
   "id": "f66ff684",
   "metadata": {},
   "outputs": [],
   "source": []
  }
 ],
 "metadata": {
  "kernelspec": {
   "display_name": "Python 3 (ipykernel)",
   "language": "python",
   "name": "python3"
  },
  "language_info": {
   "codemirror_mode": {
    "name": "ipython",
    "version": 3
   },
   "file_extension": ".py",
   "mimetype": "text/x-python",
   "name": "python",
   "nbconvert_exporter": "python",
   "pygments_lexer": "ipython3",
   "version": "3.9.7"
  }
 },
 "nbformat": 4,
 "nbformat_minor": 5
}
